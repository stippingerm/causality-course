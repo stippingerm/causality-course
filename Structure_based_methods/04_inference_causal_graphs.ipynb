{
 "cells": [
  {
   "cell_type": "markdown",
   "id": "76dc6fe5",
   "metadata": {},
   "source": [
    "# Inference of causal graphs from data\n",
    "\n",
    "Author: Marcell Stippinger\n",
    "\n",
    "Date: 2025-10-03\n",
    "\n",
    "## Contents\n",
    "\n",
    "* Learn how to generate a causal graph\n",
    "* Create probability distribution over the graph\n",
    "* Sample from the probability distribution\n",
    "* Infer causal relations from data (PC, FCI)"
   ]
  },
  {
   "cell_type": "markdown",
   "id": "95da2ca4",
   "metadata": {},
   "source": [
    "## Preparation, global imports"
   ]
  },
  {
   "cell_type": "code",
   "execution_count": null,
   "id": "5e6ea30b",
   "metadata": {},
   "outputs": [],
   "source": [
    "# Install package if not already installed\n",
    "!pip install causal-learn"
   ]
  },
  {
   "cell_type": "code",
   "execution_count": null,
   "id": "43d2c352",
   "metadata": {},
   "outputs": [],
   "source": [
    "from copy import copy, deepcopy\n",
    "from IPython.display import Image\n",
    "import numpy as np\n",
    "import pandas as pd\n",
    "import networkx as nx\n",
    "from sklearn.utils import check_random_state\n",
    "from scipy import stats"
   ]
  },
  {
   "cell_type": "markdown",
   "id": "f99a9517",
   "metadata": {},
   "source": [
    "## Generate graph and distribution"
   ]
  },
  {
   "cell_type": "code",
   "execution_count": null,
   "id": "c5b5851c",
   "metadata": {},
   "outputs": [],
   "source": [
    "def dag_with_preferential_attachment(num_nodes, root_cause_proba=0.3, parent_count=2.0, random_seed=20251003):\n",
    "    \"\"\"Generate a random DAG with preferential attachment.\n",
    "\n",
    "    Parameters\n",
    "    ----------\n",
    "    num_nodes : int\n",
    "        Number of nodes in the DAG.\n",
    "    root_cause_proba : float\n",
    "        Probability of a node being a root cause (having no parents).\n",
    "    parent_count : float\n",
    "        Average number of parents for non-root nodes.\n",
    "    random_seed : int\n",
    "        Seed for the random number generator.\n",
    "        \n",
    "\n",
    "    Returns\n",
    "    -------\n",
    "    dag : dict\n",
    "        A dictionary representing the DAG, where keys are node indices and values are lists of parent node indices.\n",
    "        Note: in this representation indices are in a possible temporal order (parents always have smaller indices than their children).\n",
    "    \"\"\"\n",
    "    rng = check_random_state(random_seed)\n",
    "    dag = {}\n",
    "    i_node = 0\n",
    "    preference = []\n",
    "\n",
    "    for i_node in range(num_nodes):\n",
    "        if stats.uniform.rvs(random_state=rng) < root_cause_proba or i_node == 0:\n",
    "            # Create a new root cause node\n",
    "            dag[i_node] = []\n",
    "            preference.append(1)\n",
    "            i_node += 1\n",
    "        else:\n",
    "            # Create a new node with parents\n",
    "            potential_parents = list(dag.keys())\n",
    "            num_parents = stats.poisson.rvs(np.maximum(parent_count - 1, 0), random_state=rng) + 1\n",
    "            parents = rng.choice(potential_parents, size=np.minimum(num_parents, i_node), replace=False, p=preference/np.sum(preference)).tolist()\n",
    "            dag[i_node] = parents\n",
    "            preference.append(1)\n",
    "            for p in parents:\n",
    "                preference[p] += 1\n",
    "            i_node += 1\n",
    "\n",
    "    return dag\n",
    "\n",
    "example_dag = dag_with_preferential_attachment(10, root_cause_proba=0.1, parent_count=2.0,)\n",
    "print(example_dag)"
   ]
  },
  {
   "cell_type": "code",
   "execution_count": null,
   "id": "5921524c",
   "metadata": {},
   "outputs": [],
   "source": [
    "def sprinkler_dag():\n",
    "    \"\"\"Generate the sprinkler example DAG.\n",
    "\n",
    "    Returns\n",
    "    -------\n",
    "    dag : dict\n",
    "        A dictionary representing the DAG, where keys are node indices and values are lists of parent node indices.\n",
    "        Note: in this representation indices are in a possible temporal order (parents always have smaller indices than their children).\n",
    "    \"\"\"\n",
    "    dag = {\n",
    "        0: [],       # Season\n",
    "        1: [0],      # Sprinkler\n",
    "        2: [0],      # Rain\n",
    "        3: [1, 2],   # Wet Grass\n",
    "        4: [3]       # Slippery Road\n",
    "    }\n",
    "    return dag\n",
    "\n",
    "example_dag = sprinkler_dag()"
   ]
  },
  {
   "cell_type": "code",
   "execution_count": null,
   "id": "ef665a27",
   "metadata": {},
   "outputs": [],
   "source": [
    "def visualize_dag(dag):\n",
    "    \"\"\"Visualize a DAG using NetworkX and Matplotlib.\n",
    "\n",
    "    Parameters\n",
    "    ----------\n",
    "    dag : dict\n",
    "        A dictionary representing the DAG, where keys are node indices and values are lists of parent node indices.\n",
    "    \"\"\"\n",
    "    import matplotlib.pyplot as plt\n",
    "\n",
    "    G = nx.DiGraph()\n",
    "    for child, parents in dag.items():\n",
    "        G.add_node(child)\n",
    "        for parent in parents:\n",
    "            G.add_edge(parent, child)\n",
    "\n",
    "    pos = nx.spring_layout(G)\n",
    "    nx.draw(G, pos, with_labels=True, arrows=True)\n",
    "    plt.show()\n",
    "\n",
    "visualize_dag(example_dag)"
   ]
  },
  {
   "cell_type": "code",
   "execution_count": null,
   "id": "400fafa4",
   "metadata": {},
   "outputs": [],
   "source": [
    "def create_probability_distributions(dag, states=2, random_seed=20251003):\n",
    "    \"\"\"Create probability distributions for each node in the DAG.\n",
    "\n",
    "    Parameters\n",
    "    ----------\n",
    "    dag : dict\n",
    "        A dictionary representing the DAG, where keys are node indices and values are lists of parent node indices.\n",
    "    states : int\n",
    "        Number of discrete states for each node.\n",
    "    random_seed : int\n",
    "        Seed for the random number generator.\n",
    "\n",
    "    Returns\n",
    "    -------\n",
    "    distributions : dict\n",
    "        A dictionary where keys are node indices and values are probability distributions as a function of the state of their parents.\n",
    "    \"\"\"\n",
    "    rng = check_random_state(random_seed)\n",
    "    distributions = {}\n",
    "\n",
    "    for node, parents in dag.items():\n",
    "        if not parents:\n",
    "            # Root node: uniform distribution\n",
    "            prob = rng.dirichlet(np.ones(states))\n",
    "            assert prob.shape == (states, )\n",
    "            assert np.allclose(prob.sum(), 1)\n",
    "            distributions[node] = prob\n",
    "        else:\n",
    "            # Non-root node: conditional probability table\n",
    "            parent_states = [states] * len(parents)\n",
    "            table_shape = parent_states + [states]\n",
    "            prob_table = rng.dirichlet(np.ones(states), size=np.prod(parent_states)).reshape(table_shape)\n",
    "            assert prob_table.shape == tuple(parent_states + [states])\n",
    "            assert np.allclose(prob_table.sum(axis=-1), 1)\n",
    "            distributions[node] = prob_table\n",
    "\n",
    "    return distributions\n",
    "\n",
    "example_distro = create_probability_distributions(example_dag)\n",
    "print(example_distro)"
   ]
  },
  {
   "cell_type": "markdown",
   "id": "1fcb95a7",
   "metadata": {},
   "source": [
    "## Example data"
   ]
  },
  {
   "cell_type": "code",
   "execution_count": null,
   "id": "bcd2bb0a",
   "metadata": {},
   "outputs": [],
   "source": [
    "def generate_observations(dag, distributions, num_samples=10000, random_seed=20251003):\n",
    "    \"\"\"Generate observations from the DAG and its probability distributions.\n",
    "\n",
    "    Parameters\n",
    "    ----------\n",
    "    dag : dict\n",
    "        A dictionary representing the DAG, where keys are node indices and values are lists of parent node indices.\n",
    "    distributions : dict\n",
    "        A dictionary where keys are node indices and values are probability distributions as a function of the state of their parents.\n",
    "    num_samples : int\n",
    "        Number of samples to generate.\n",
    "    random_seed : int\n",
    "        Seed for the random number generator.\n",
    "\n",
    "    Returns\n",
    "    -------\n",
    "    data : pd.DataFrame\n",
    "        A DataFrame where each column corresponds to a node and each row is a sample.\n",
    "    \"\"\"\n",
    "    rng = check_random_state(random_seed)\n",
    "    data = pd.DataFrame(index=np.arange(num_samples), columns=dag.keys())\n",
    "\n",
    "    for node in dag.keys():\n",
    "        parents = dag[node]\n",
    "        if not parents:\n",
    "            # Root node: sample from its distribution\n",
    "            prob = distributions[node]\n",
    "            data[node] = rng.choice(len(prob), size=num_samples, p=prob)\n",
    "        else:\n",
    "            # Non-root node: sample based on parents' states\n",
    "            prob_table = distributions[node]\n",
    "            parent_states = data[parents].values\n",
    "            samples = []\n",
    "            # we could use np.take to parallelize this, but it's less readable\n",
    "            for ps in parent_states:\n",
    "                prob = prob_table[tuple(ps)]\n",
    "                sample = rng.choice(len(prob), p=prob)\n",
    "                samples.append(sample)\n",
    "            data[node] = samples\n",
    "\n",
    "    return data\n",
    "\n",
    "example_data = generate_observations(example_dag, example_distro, num_samples=10000)\n",
    "example_data.head()"
   ]
  },
  {
   "cell_type": "markdown",
   "id": "612a5f67",
   "metadata": {},
   "source": [
    "## Inference of causal graphs from data"
   ]
  },
  {
   "cell_type": "markdown",
   "id": "4eaa18b9",
   "metadata": {},
   "source": [
    "### The PC algorithm (Peter and Clark)\n",
    "\n",
    "Spirtes, P., Glymour, C. N., Scheines, R., & Heckerman, D. (2000). Causation, prediction, and search. MIT press.\n",
    "\n",
    "**Output:** cg : a CausalGraph object,\n",
    "* where cg.G.graph[j,i]=1 and cg.G.graph[i,j]=-1 indicate i –> j;\n",
    "* cg.G.graph[i,j] = cg.G.graph[j,i] = -1 indicate i — j;\n",
    "* cg.G.graph[i,j] = cg.G.graph[j,i] = 1 indicates i <-> j.\n"
   ]
  },
  {
   "cell_type": "code",
   "execution_count": null,
   "id": "3673b327",
   "metadata": {},
   "outputs": [],
   "source": [
    "from causallearn.search.ConstraintBased.PC import pc\n",
    "\n",
    "# default parameters\n",
    "cg = pc(example_data.values)\n",
    "\n",
    "# or customized parameters\n",
    "#cg = pc(data, alpha, indep_test, stable, uc_rule, uc_priority, mvpc, correction_name, background_knowledge, verbose, show_progress)\n",
    "\n",
    "# visualization using pydot\n",
    "cg.draw_pydot_graph(labels=np.arange(example_data.shape[1]))"
   ]
  },
  {
   "cell_type": "markdown",
   "id": "5343ee26",
   "metadata": {},
   "source": [
    "### FCI algorith (Fast Causal Inference)\n",
    "\n",
    "Spirtes, P., Meek, C., & Richardson, T. (1995, August). Causal inference in the presence of latent variables and selection bias. In Proceedings of the Eleventh conference on Uncertainty in artificial intelligence (pp. 499-506).\n",
    "\n",
    "**Output:** g: a GeneralGraph object,\n",
    "* where g.graph is a PAG and the illustration of its end nodes is as follows (denotes G = g.graph):\n",
    "* $A\\to B$ cause if G[B,A]=1 and G.graph[A,B]=-1\n",
    "* $A\\circ\\!\\!\\to B$ not ancestor if G[B,A]=1 and G[A,B]=2\n",
    "* $A\\circ\\!\\!-\\!\\!\\circ B$ no set d-separates A and B if G[A,B] = G[B,A] = 2\n",
    "* $A\\leftrightarrow B$ latent confounder if G[A,B] = G[B,A] = 1"
   ]
  },
  {
   "cell_type": "code",
   "execution_count": null,
   "id": "2e3ff855",
   "metadata": {},
   "outputs": [],
   "source": [
    "from causallearn.search.ConstraintBased.FCI import fci\n",
    "\n",
    "# default parameters\n",
    "g, edges = fci(example_data.values)\n",
    "\n",
    "# or customized parameters\n",
    "# g, edges = fci(data, independence_test_method, alpha, depth, max_path_length, verbose, background_knowledge, cache_variables_map)\n",
    "\n",
    "# visualization using pydot\n",
    "from causallearn.utils.GraphUtils import GraphUtils\n",
    "\n",
    "pdy = GraphUtils.to_pydot(g, labels=np.arange(example_data.shape[1]))\n",
    "#pdy.write_png('simple_test.png')\n",
    "Image(pdy.create_png(prog='dot'))"
   ]
  },
  {
   "cell_type": "markdown",
   "id": "651bb68c",
   "metadata": {},
   "source": [
    "Excercises:\n",
    "* try different sample sizes\n",
    "* try different graph structures\n",
    "* can you write down the independence and conditional independence relations\n",
    "* does the output belong to an observationally equivalent graph"
   ]
  },
  {
   "cell_type": "markdown",
   "id": "8cc12801",
   "metadata": {},
   "source": []
  }
 ],
 "metadata": {
  "kernelspec": {
   "display_name": "base",
   "language": "python",
   "name": "python3"
  },
  "language_info": {
   "codemirror_mode": {
    "name": "ipython",
    "version": 3
   },
   "file_extension": ".py",
   "mimetype": "text/x-python",
   "name": "python",
   "nbconvert_exporter": "python",
   "pygments_lexer": "ipython3",
   "version": "3.11.11"
  }
 },
 "nbformat": 4,
 "nbformat_minor": 5
}
