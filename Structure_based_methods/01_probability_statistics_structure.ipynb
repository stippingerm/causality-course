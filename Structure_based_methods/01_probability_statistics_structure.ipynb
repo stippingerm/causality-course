{
 "cells": [
  {
   "cell_type": "markdown",
   "id": "fff6ec9c",
   "metadata": {},
   "source": [
    "# Causality course 01 - Foundations in probability and statistics\n",
    "\n",
    "Semester: Fall 2025\n",
    "\n",
    "Author: Marcell Stippinger\n",
    "\n",
    "Affiliation: HUN-REN Wigner RCP\n",
    "\n"
   ]
  },
  {
   "cell_type": "code",
   "execution_count": null,
   "id": "490bcb02",
   "metadata": {},
   "outputs": [],
   "source": [
    "# import common libraries\n",
    "import numpy as np\n",
    "import matplotlib.pyplot as plt\n",
    "from scipy import stats\n",
    "from scipy.stats import norm, uniform\n",
    "from scipy.optimize import curve_fit"
   ]
  },
  {
   "cell_type": "markdown",
   "id": "262f7ee6",
   "metadata": {},
   "source": [
    "## Explore distributions"
   ]
  },
  {
   "cell_type": "code",
   "execution_count": null,
   "id": "9f9e8e5d",
   "metadata": {},
   "outputs": [],
   "source": [
    "def pdf_and_cdf_plot(distribution):\n",
    "    \"\"\"Plot the PDF and CDF of a given distribution.\"\"\"\n",
    "    low = distribution.ppf(0.01)\n",
    "    high = distribution.ppf(0.99)\n",
    "    ext = (high - low) * 0.1\n",
    "    x = np.linspace(low-ext, high+ext, 1000)\n",
    "    pdf = distribution.pdf(x)\n",
    "    cdf = distribution.cdf(x)\n",
    "\n",
    "    fig, ax1 = plt.subplots()\n",
    "\n",
    "    color = 'tab:blue'\n",
    "    ax1.set_xlabel('x')\n",
    "    ax1.set_ylabel('PDF', color=color)\n",
    "    ax1.plot(x, pdf, color=color)\n",
    "    ax1.tick_params(axis='y', labelcolor=color)\n",
    "\n",
    "    ax2 = ax1.twinx()\n",
    "    color = 'tab:red'\n",
    "    ax2.set_ylabel('CDF', color=color)\n",
    "    ax2.plot(x, cdf, color=color)\n",
    "    ax2.tick_params(axis='y', labelcolor=color)\n",
    "\n",
    "    plt.title(f'PDF and CDF of {distribution.dist.name} Distribution')\n",
    "    plt.grid()\n",
    "    plt.show()"
   ]
  },
  {
   "cell_type": "code",
   "execution_count": null,
   "id": "dc7c396f",
   "metadata": {},
   "outputs": [],
   "source": [
    "# Programmatically list all continuous distribution names from scipy.stats\n",
    "distributions = [dist for dist in dir(stats) if isinstance(getattr(stats, dist), stats.rv_continuous)]\n",
    "print(distributions, sep=', ')"
   ]
  },
  {
   "cell_type": "code",
   "execution_count": null,
   "id": "7d187ecd",
   "metadata": {},
   "outputs": [],
   "source": [
    "# Get help for a given distribution\n",
    "help(stats.binom)"
   ]
  },
  {
   "cell_type": "code",
   "execution_count": null,
   "id": "d5306442",
   "metadata": {},
   "outputs": [],
   "source": [
    "# Normal or Gaussian distribution\n",
    "pdf_and_cdf_plot(norm(loc=0, scale=1))"
   ]
  },
  {
   "cell_type": "code",
   "execution_count": null,
   "id": "5a47f2be",
   "metadata": {},
   "outputs": [],
   "source": [
    "# Uniform distribution\n",
    "pdf_and_cdf_plot(uniform(loc=2, scale=3))"
   ]
  },
  {
   "cell_type": "markdown",
   "id": "10391d8a",
   "metadata": {},
   "source": [
    "**Activity**: try out some of the distributions from the list"
   ]
  },
  {
   "cell_type": "markdown",
   "id": "47655e2d",
   "metadata": {},
   "source": [
    "## Structural asymmetry demo\n",
    "\n",
    "* $X=U_X$ and $Y=X+U_Y$\n",
    "* $X\\to Y$ can be recovered if\n",
    "* at least one of $U_X$ and $U_Y$ is not normal distribution"
   ]
  },
  {
   "cell_type": "code",
   "execution_count": null,
   "id": "27130416",
   "metadata": {},
   "outputs": [],
   "source": [
    "def make_data(x_distro, noise_distro, trf = lambda x: x):\n",
    "    n = 1000\n",
    "    x = x_distro.rvs(n)\n",
    "    noise = noise_distro.rvs(n)\n",
    "    y = trf(x) + noise\n",
    "    return x, y\n",
    "\n",
    "def do_best_fit(x, y, trf = lambda x, a, b: a*x + b):\n",
    "    params, params_covariance = curve_fit(trf, x, y)\n",
    "    fitted = trf(x, *params)\n",
    "    residual = np.mean(np.abs(y - fitted))\n",
    "    return params, fitted, residual\n",
    "\n",
    "def plot_data_and_fit(ax, x, y, x_fitted, y_fitted, title = \"\"):\n",
    "    ax.scatter(x, y, label='Data', alpha=0.5)\n",
    "    ax.plot(x_fitted, y_fitted, color='red', label='Best Fit', linewidth=2)\n",
    "    ax.set_title(title)\n",
    "    ax.set_xlabel('x')\n",
    "    ax.set_ylabel('y')\n",
    "    ax.legend()\n",
    "    ax.grid()\n",
    "\n",
    "def plot_residuals(ax, x, y, x_fitted, y_fitted, title = \"\"):\n",
    "    ax.scatter(x-x_fitted, y-y_fitted, label='Data', alpha=0.5)\n",
    "    ax.set_title(title)\n",
    "    ax.set_xlabel('x')\n",
    "    ax.set_ylabel('y')\n",
    "    ax.legend()\n",
    "    ax.grid()\n",
    "\n",
    "def structural_asymmetry_demo(x_distro=uniform, noise_distro=norm, trf=lambda x: x):\n",
    "    # Linear relationship\n",
    "    x, y = make_data(x_distro, noise_distro, trf=trf)\n",
    "    lin_trf = lambda x, a, b: a*x + b\n",
    "    fig, ax = plt.subplots(2, 2, figsize=(10, 10))\n",
    "    params, y_fitted, residual = do_best_fit(x, y, lin_trf)\n",
    "    plot_data_and_fit(ax[0, 0], x, y, x, y_fitted, title=f'Linear Fit: y = {params[0]:.2f}x + {params[1]:.2f}, Residual: {residual:.2f}')\n",
    "    plot_residuals(ax[0, 1], x, y, 0, y_fitted, title=f'After transform')\n",
    "    params, x_fitted, residual = do_best_fit(y, x, lin_trf)\n",
    "    plot_data_and_fit(ax[1, 0], x, y, x_fitted, y, title=f'Linear Fit: x = {params[0]:.2f}y + {params[1]:.2f}, Residual: {residual:.2f}')\n",
    "    plot_residuals(ax[1, 1], x, y, x_fitted, 0, title=f'After transform')\n"
   ]
  },
  {
   "cell_type": "code",
   "execution_count": null,
   "id": "3d0f8700",
   "metadata": {},
   "outputs": [],
   "source": [
    "# uniform and normal\n",
    "structural_asymmetry_demo(x_distro=uniform(loc=0, scale=10), noise_distro=norm(loc=0, scale=2), trf=lambda x: 2*x + 3)"
   ]
  },
  {
   "cell_type": "code",
   "execution_count": null,
   "id": "c599cbd4",
   "metadata": {},
   "outputs": [],
   "source": [
    "# uniform and uniform\n",
    "structural_asymmetry_demo(x_distro=uniform(loc=0, scale=2), noise_distro=uniform(loc=0, scale=2), trf=lambda x: 1.5*x + 7)"
   ]
  },
  {
   "cell_type": "markdown",
   "id": "840bb4c9",
   "metadata": {},
   "source": [
    "### Gaussian random variable with Gaussian noise\n",
    "\n",
    "When two *normal distributions* are involved, the asymmetry disappears because they always form a joint multivariate normal distribution.\n",
    "\n",
    "Some observations:\n",
    "* Let $X\\sim\\mathcal{N}(\\mu, \\sigma^2)$ then, $Y=(aX+b)\\sim\\mathcal{N}(a\\mu+b, a^2\\sigma^2)$.\n",
    "* Let $X_1\\sim\\mathcal{N}(\\mu_1, \\sigma_1^2)$ and $X_2\\sim\\mathcal{N}(\\mu_2, \\sigma_2^2)$, then $Y=(X_1+X_2)\\sim\\mathcal{N}(\\mu_1+\\mu_2, \\sigma_1^2+\\sigma_2^2)$.\n",
    "* A $d$-dimensional joint multivariate normal distribution $X_i$, $i\\in\\{1,...,d\\}$ is determined by its means and covariances:\n",
    "  $$ \\phi(\\mathbf{x})=(2\\pi )^{-k/2}\\det({\\boldsymbol {\\Sigma }})^{-1/2}\\,\\exp \\left(-{\\frac {1}{2}}(\\mathbf {x} -{\\boldsymbol {\\mu }})^{\\mathrm {T} }{\\boldsymbol {\\Sigma }}^{-1}(\\mathbf {x} -{\\boldsymbol {\\mu }})\\right)$$\n",
    "  where $\\mathbf{x}\\in\\mathbb{R}^d$, $\\mu_i=\\mathrm{E}[X_i]$ and $\\Sigma_{ij} = \\mathrm{Cov}(X_i, X_j)$.\n",
    "* All of its projections (and thus marginals) are normal distributions: $Y=(\\sum_{i=1}^d a_i X_i)\\sim\\mathcal{N}(\\mu_a, \\sigma_a^2)$ with some $\\mu_a$ and $\\sigma_a$.\n",
    "* All of its slices (i.e., conditionals) are also normal distributions.\n",
    "\n",
    "Formally, for $X=U_X$ and $Y=X+U_Y$ with $U_X\\sim\\mathcal{N}(\\mu_a, \\sigma_a^2)$ and $U_Y\\sim\\mathcal{N}(\\mu_b, \\sigma_b^2)$ independents:\n",
    "* $X\\sim\\mathcal{N}(\\mu_X = \\mu_a, \\sigma_X = \\sigma_a^2)$ and $Y\\sim\\mathcal{N}(\\mu_Y = \\mu_a+\\mu_b, \\sigma_Y^2 = \\sigma_a^2+\\sigma_b^2)$\n",
    "* $\\mathbf{Z}=(X, Y) \\sim \\mathcal{N}({\\boldsymbol {\\mu }}, {\\boldsymbol {\\Sigma }})$ with ${\\boldsymbol {\\mu }}=(\\mu_a, \\mu_a+\\mu_b)$ and\n",
    "  $$ {\\boldsymbol {\\Sigma }} = \\left(\\begin{array}{cc} \\sigma_a^2 & \\sigma_a^2 \\\\ \\sigma_a^2 & \\sigma_a^2 + \\sigma_b^2\\end{array}\\right)$$\n",
    "* because $\\mathrm{Cov}(X, Y) = \\mathrm{E}[(X-\\mu_X)(Y-\\mu_Y)] = \\mathrm{E}[(X-\\mu_X)(X-\\mu_X)] +\\mathrm{E}[(X-\\mu_X)(U_Y-\\mu_b)] = \\sigma_X^2 + 0 = \\sigma_a^2 $ due to the independence of $U_X$ and $U_Y$\n",
    "* Moreover, their correlation is $$\\rho_{XY}=\\frac{\\mathrm{Cov}⁡(X,Y)}{\\sqrt{\\mathrm{Var}⁡(X)\\mathrm{Var}⁡(Y)}}=\\frac{\\sigma_a^2}{\\sigma_a\\sqrt{\\sigma_a^2+\\sigma_b^2}}=\\frac{\\sigma_a}{\\sqrt{\\sigma_a^2+\\sigma_b^2}},$$\n",
    "* and the conditional distribution $(Y∣X=x)\\sim\\mathcal{N}(x+\\mu_b, \\sigma_b^2)$.\n",
    "\n",
    "After removing the fitted curve, the residual is uncorrelated Gaussian, i.e., the asymmetry cannot be found. Both $X$ and $Y$ are projections of a joint multivariate normal distribution $Z$. \n",
    "\n",
    "For more information, see, e.g., C. Glymour, K. Zhang, and P. Spirtes. 2019. Review of causal discovery methods based on graphical models. Frontiers in Genetics 10 (2019)."
   ]
  },
  {
   "cell_type": "code",
   "execution_count": null,
   "id": "5ff01726",
   "metadata": {},
   "outputs": [],
   "source": [
    "# normal and normal\n",
    "structural_asymmetry_demo(x_distro=norm(loc=0, scale=1), noise_distro=norm(loc=0, scale=1), trf=lambda x: 1.5*x + 7)"
   ]
  }
 ],
 "metadata": {
  "kernelspec": {
   "display_name": "base",
   "language": "python",
   "name": "python3"
  },
  "language_info": {
   "codemirror_mode": {
    "name": "ipython",
    "version": 3
   },
   "file_extension": ".py",
   "mimetype": "text/x-python",
   "name": "python",
   "nbconvert_exporter": "python",
   "pygments_lexer": "ipython3",
   "version": "3.11.11"
  }
 },
 "nbformat": 4,
 "nbformat_minor": 5
}
